{
    "metadata": {
        "kernelspec": {
            "name": "SQL",
            "display_name": "SQL",
            "language": "sql"
        },
        "language_info": {
            "name": "sql",
            "version": ""
        }
    },
    "nbformat_minor": 2,
    "nbformat": 4,
    "cells": [
        {
            "cell_type": "markdown",
            "source": [
                "**DATA CLEANING USING SQL**"
            ],
            "metadata": {
                "azdata_cell_guid": "ce74746a-e808-44ed-bced-b7f63265026b",
                "language": ""
            },
            "attachments": {}
        },
        {
            "cell_type": "code",
            "source": [
                "-- show table to ecplore data\r\n",
                "Select *\r\n",
                "From nash_housingdata.dbo.NashvileHousing"
            ],
            "metadata": {
                "azdata_cell_guid": "99dfa216-c062-4223-9810-25b3108368e0",
                "language": "sql",
                "tags": [
                    "hide_input"
                ]
            },
            "outputs": [],
            "execution_count": null
        },
        {
            "cell_type": "markdown",
            "source": [
                "CONVERTING DATE FORMAT"
            ],
            "metadata": {
                "azdata_cell_guid": "f2bc467a-b875-45c0-b7e7-813392002257"
            },
            "attachments": {}
        },
        {
            "cell_type": "code",
            "source": [
                "-- converting date format\r\n",
                "Update NashvileHousing\r\n",
                "SET SaleDate = CONVERT(Date,SaleDate)"
            ],
            "metadata": {
                "azdata_cell_guid": "4da8dcf8-c8a7-4071-991d-4ea5a89290cd",
                "language": "sql"
            },
            "outputs": [
                {
                    "output_type": "display_data",
                    "data": {
                        "text/html": "(56477 rows affected)"
                    },
                    "metadata": {}
                },
                {
                    "output_type": "display_data",
                    "data": {
                        "text/html": "Total execution time: 00:00:06.307"
                    },
                    "metadata": {}
                }
            ],
            "execution_count": 6
        },
        {
            "cell_type": "code",
            "source": [
                "-- property address\r\n",
                "SElect *\r\n",
                "from nash_housingdata.dbo.nashvilehousing\r\n",
                "-- where PropertyAddress is null"
            ],
            "metadata": {
                "language": "sql",
                "azdata_cell_guid": "80afd8cc-4cf1-4e2b-a02f-70551ce27de1",
                "tags": []
            },
            "outputs": [],
            "execution_count": null
        },
        {
            "cell_type": "code",
            "source": [
                "-- the propertyaddress column has different rows having similar ParcelId and UniqueID\r\n",
                "-- using the unique id to add data to the propertyaddress column using self join\r\n",
                "Select a.ParcelID, a.PropertyAddress, b.ParcelID, b.PropertyAddress, ISNULL(a.PropertyAddress,b.PropertyAddress)\r\n",
                "From nash_housingdata.dbo.NashvileHousing a\r\n",
                "JOIN nash_housingdata.dbo.NashvileHousing b\r\n",
                "\ton a.ParcelID = b.ParcelID\r\n",
                "\tAND a.[UniqueID ] != b.[UniqueID ]\r\n",
                "Where a.PropertyAddress is null\r\n",
                "\r\n",
                "Update a\r\n",
                "SET PropertyAddress = ISNULL(a.PropertyAddress,b.PropertyAddress)\r\n",
                "From nash_housingdata.dbo.NashvileHousing a\r\n",
                "JOIN nash_housingdata.dbo.NashvileHousing b\r\n",
                "\ton a.ParcelID = b.ParcelID\r\n",
                "\tAND a.[UniqueID ] <> b.[UniqueID ]\r\n",
                "Where a.PropertyAddress is null"
            ],
            "metadata": {
                "azdata_cell_guid": "9a2dfbfe-30da-4b78-bd2c-1bcf269a043e",
                "language": "sql",
                "tags": []
            },
            "outputs": [
                {
                    "output_type": "display_data",
                    "data": {
                        "text/html": "(0 rows affected)"
                    },
                    "metadata": {}
                },
                {
                    "output_type": "display_data",
                    "data": {
                        "text/html": "(0 rows affected)"
                    },
                    "metadata": {}
                },
                {
                    "output_type": "display_data",
                    "data": {
                        "text/html": "Total execution time: 00:00:00.276"
                    },
                    "metadata": {}
                },
                {
                    "output_type": "execute_result",
                    "execution_count": 7,
                    "data": {
                        "application/vnd.dataresource+json": {
                            "schema": {
                                "fields": [
                                    {
                                        "name": "ParcelID"
                                    },
                                    {
                                        "name": "PropertyAddress"
                                    },
                                    {
                                        "name": "ParcelID"
                                    },
                                    {
                                        "name": "PropertyAddress"
                                    },
                                    {
                                        "name": "(No column name)"
                                    }
                                ]
                            },
                            "data": []
                        },
                        "text/html": "<table><tr><th>ParcelID</th><th>PropertyAddress</th><th>ParcelID</th><th>PropertyAddress</th><th>(No column name)</th></tr></table>"
                    },
                    "metadata": {}
                }
            ],
            "execution_count": 7
        },
        {
            "cell_type": "code",
            "source": [
                "-- splitting the Property address (address, city) at the delimiter\r\n",
                "SELECT\r\n",
                "SUBSTRING(PropertyAddress, 1, CHARINDEX(',', PropertyAddress) -1 ) as Address\r\n",
                ", SUBSTRING(PropertyAddress, CHARINDEX(',', PropertyAddress) + 1, LEN(PropertyAddress)) as Address\r\n",
                "\r\n",
                "From nash_housingdata.dbo.NashvileHousing"
            ],
            "metadata": {
                "azdata_cell_guid": "74d97bba-a4bd-453d-8bcd-1452b260dea7",
                "language": "sql",
                "tags": []
            },
            "outputs": [],
            "execution_count": null
        },
        {
            "cell_type": "code",
            "source": [
                "-- creating columns for the split property address\r\n",
                "-- ALTER TABLE NashvileHousing\r\n",
                "-- Add street_add Nvarchar(255);\r\n",
                "-- Update NashvileHousing\r\n",
                "-- SET street_add = SUBSTRING(PropertyAddress, 1, CHARINDEX(',', PropertyAddress) -1 )\r\n",
                "-- ALTER TABLE NashvileHousing\r\n",
                "-- Add City_add Nvarchar(255);\r\n",
                "\r\n",
                "Update NashvileHousing\r\n",
                "SET City_add = SUBSTRING(PropertyAddress, CHARINDEX(',', PropertyAddress) + 1 , LEN(PropertyAddress))\r\n",
                ""
            ],
            "metadata": {
                "language": "sql",
                "azdata_cell_guid": "f7df5637-7c5a-45f2-9d4c-bcfd08c49274"
            },
            "outputs": [
                {
                    "output_type": "display_data",
                    "data": {
                        "text/html": "(56477 rows affected)"
                    },
                    "metadata": {}
                },
                {
                    "output_type": "display_data",
                    "data": {
                        "text/html": "Total execution time: 00:00:02.662"
                    },
                    "metadata": {}
                }
            ],
            "execution_count": 22
        },
        {
            "cell_type": "code",
            "source": [
                "Select OwnerAddress\r\n",
                "From nash_housingdata.dbo.NashvileHousing\r\n",
                ""
            ],
            "metadata": {
                "language": "sql",
                "azdata_cell_guid": "77ee8dc4-b6bd-4b11-b0a4-d26792c4056d",
                "tags": []
            },
            "outputs": [],
            "execution_count": null
        },
        {
            "cell_type": "code",
            "source": [
                "ALTER TABLE NashvileHousing\r\n",
                "Add Owner_str_add Nvarchar(255);\r\n",
                "\r\n",
                "ALTER TABLE NashvileHousing\r\n",
                "Add Owner_city_add Nvarchar(255);\r\n",
                "\r\n",
                "ALTER TABLE NashvileHousing\r\n",
                "Add Owner_State_add Nvarchar(255);"
            ],
            "metadata": {
                "azdata_cell_guid": "d47a1e40-ebe0-4bad-ac1d-23f6b27145b9",
                "language": "sql"
            },
            "outputs": [
                {
                    "output_type": "display_data",
                    "data": {
                        "text/html": "(56477 rows affected)"
                    },
                    "metadata": {}
                },
                {
                    "output_type": "display_data",
                    "data": {
                        "text/html": "Total execution time: 00:00:03.103"
                    },
                    "metadata": {}
                }
            ],
            "execution_count": 4
        },
        {
            "cell_type": "code",
            "source": [
                "Update NashvileHousing\r\n",
                "SET Owner_str_add = PARSENAME(REPLACE(OwnerAddress, ',', '.') , 3)\r\n",
                "\r\n",
                "Update NashvileHousing\r\n",
                "SET Owner_city_add = PARSENAME(REPLACE(OwnerAddress, ',', '.') , 2)\r\n",
                "\r\n",
                "Update NashvileHousing\r\n",
                "SET Owner_State_add = PARSENAME(REPLACE(OwnerAddress, ',', '.') , 1)"
            ],
            "metadata": {
                "language": "sql",
                "azdata_cell_guid": "01031c61-e6da-4be5-a8a3-716b37f5cc5e"
            },
            "outputs": [],
            "execution_count": null
        },
        {
            "cell_type": "code",
            "source": [
                "-- the sold as vacant field contains different options\r\n",
                "Select Distinct(SoldAsVacant), Count(SoldAsVacant)\r\n",
                "From nash_housingdata.dbo.NashvileHousing\r\n",
                "Group by SoldAsVacant\r\n",
                "order by 2"
            ],
            "metadata": {
                "language": "sql",
                "azdata_cell_guid": "185deb67-989a-43f9-bf0b-320bdb9ac9b3"
            },
            "outputs": [],
            "execution_count": null
        },
        {
            "cell_type": "code",
            "source": [
                "Update NashvileHousing\r\n",
                "SET SoldAsVacant = CASE When SoldAsVacant = 'Y' THEN 'Yes'\r\n",
                "\t   When SoldAsVacant = 'N' THEN 'No'\r\n",
                "\t   ELSE SoldAsVacant\r\n",
                "\t   END"
            ],
            "metadata": {
                "language": "sql",
                "azdata_cell_guid": "116997fd-af75-4658-bc1a-caf6d7b8f33a"
            },
            "outputs": [
                {
                    "output_type": "display_data",
                    "data": {
                        "text/html": "(56477 rows affected)"
                    },
                    "metadata": {}
                },
                {
                    "output_type": "display_data",
                    "data": {
                        "text/html": "Total execution time: 00:00:01.501"
                    },
                    "metadata": {}
                }
            ],
            "execution_count": 11
        },
        {
            "cell_type": "code",
            "source": [
                "-- Delete Unused Columns\r\n",
                "\r\n",
                "\r\n",
                "\r\n",
                "Select *\r\n",
                "From nash_housingdata.dbo.NashvileHousing\r\n",
                "\r\n",
                "\r\n",
                "ALTER TABLE nash_housingdata.dbo.NashvileHousing\r\n",
                "DROP COLUMN OwnerAddress, TaxDistrict, PropertyAddress, SaleDate\r\n",
                ""
            ],
            "metadata": {
                "language": "sql",
                "azdata_cell_guid": "7fd34c8c-d53f-4aec-af86-bbe223fd3973"
            },
            "outputs": [],
            "execution_count": null
        }
    ]
}