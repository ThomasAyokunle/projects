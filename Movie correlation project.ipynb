{
 "cells": [
  {
   "cell_type": "code",
   "execution_count": null,
   "id": "423dc4d2",
   "metadata": {},
   "outputs": [],
   "source": [
    "# First let's import the packages we will use in this project\\n\",\n",
    "    # You can do this all now or as you need them\\n\",\n",
    "import pandas as pd\n",
    "import numpy as np\n",
    "import seaborn as sns\n",
    "import matplotlib.pyplot as plt\n",
    "import matplotlib.mlab as mlab\n",
    "import matplotlib\n",
    "plt.style.use('ggplot')\n",
    "from matplotlib.pyplot import figure\n",
    "%matplotlib inline\n",
    "matplotlib.rcParams['figure.figsize'] = (12,8)\n",
    "pd.options.mode.chained_assignment = None"
   ]
  },
  {
   "cell_type": "code",
   "execution_count": null,
   "id": "593de850",
   "metadata": {},
   "outputs": [],
   "source": [
    "# Now we need to read in the data\n",
    "df = pd.read_csv(r'C:\\Users\\ABEOKUTA SOUTH\\Desktop\\port project\\python\\movies.csv')"
   ]
  },
  {
   "cell_type": "code",
   "execution_count": null,
   "id": "d85955ac",
   "metadata": {},
   "outputs": [],
   "source": [
    "# explore the data\n",
    "df.head(10)"
   ]
  },
  {
   "cell_type": "code",
   "execution_count": null,
   "id": "cf5fe876",
   "metadata": {},
   "outputs": [],
   "source": [
    "pd.set_option('display.max_rows', None)"
   ]
  },
  {
   "cell_type": "code",
   "execution_count": null,
   "id": "b50d6bfe",
   "metadata": {},
   "outputs": [],
   "source": [
    "# checking for missing data\n",
    "for column in df.columns:\n",
    "    # Count the number of missing values in the column\n",
    "    missing_count = df[column].isnull().sum()\n",
    "    \n",
    "    # Optionally, calculate the percentage of missing values in the column\n",
    "    percentage_missing = (missing_count / df.shape[0]) * 100\n",
    "    \n",
    "    # Print the results\n",
    "    print(f\"Column '{column}' has {missing_count} missing values. ({percentage_missing:.2f}% missing)\")"
   ]
  },
  {
   "cell_type": "code",
   "execution_count": null,
   "id": "5b703050",
   "metadata": {},
   "outputs": [],
   "source": [
    "# dropping empty rows\n",
    "df.dropna(inplace= True)"
   ]
  },
  {
   "cell_type": "code",
   "execution_count": null,
   "id": "1c160e94",
   "metadata": {},
   "outputs": [],
   "source": [
    "# changing data type\n",
    "df['budget']= df['budget'].astype('int64')\n",
    "df['gross']= df['gross'].astype('int64')"
   ]
  },
  {
   "cell_type": "code",
   "execution_count": null,
   "id": "08779f44",
   "metadata": {},
   "outputs": [],
   "source": [
    "# spliting the released column into month year and day\n",
    "\n",
    "\n",
    "df[['Month', 'Day', 'Year', 'Location']] = df['released'].str.extract(r\"(\\w+) (\\d+), (\\d+) \\((.*)\\)\", expand= True)\n",
    "\n",
    "df\n"
   ]
  },
  {
   "cell_type": "code",
   "execution_count": null,
   "id": "7d68aab6",
   "metadata": {},
   "outputs": [],
   "source": [
    "# deopping the released column and year\n",
    "\n",
    "columns_to_drop = ['released', 'year', 'Month', 'Day']\n",
    "\n",
    "df.drop(columns_to_drop, axis=1, inplace=True)"
   ]
  },
  {
   "cell_type": "code",
   "execution_count": null,
   "id": "41c7e5a0",
   "metadata": {},
   "outputs": [],
   "source": [
    "df= df.sort_values(by= ['gross'], inplace= False, ascending= False)"
   ]
  },
  {
   "cell_type": "code",
   "execution_count": null,
   "id": "b9d95f2d",
   "metadata": {},
   "outputs": [],
   "source": [
    "plt.scatter(x=df['budget'], y= df['gross'])\n",
    "\n",
    "plt.xlabel('Gross earning')\n",
    "\n",
    "plt.ylabel('Budget')\n",
    "\n",
    "plt.title('Budget vs Gross earning')\n",
    "\n",
    "plt.show"
   ]
  },
  {
   "cell_type": "code",
   "execution_count": null,
   "id": "312c958e",
   "metadata": {},
   "outputs": [],
   "source": [
    "# plooting budget vs gross with seaborn\n",
    "\n",
    "sns.regplot(x= 'budget', y= 'gross', data= df, scatter_kws={\"color\":\"black\"}, line_kws= {\"color\":\"red\"})"
   ]
  },
  {
   "cell_type": "markdown",
   "id": "7692571b",
   "metadata": {},
   "source": [
    "looking at correlation between columns"
   ]
  },
  {
   "cell_type": "code",
   "execution_count": null,
   "id": "c341e7a4",
   "metadata": {},
   "outputs": [],
   "source": [
    "corr_matrix = df.corr(method='pearson')\n",
    "\n",
    "sns.heatmap(corr_matrix, annot= True)\n",
    "\n",
    "plt.title('Correlation Heatmap')\n",
    "\n",
    "plt.show()\n"
   ]
  },
  {
   "cell_type": "code",
   "execution_count": null,
   "id": "792e2644",
   "metadata": {},
   "outputs": [],
   "source": [
    "df_num= df.copy()"
   ]
  },
  {
   "cell_type": "code",
   "execution_count": null,
   "id": "b5f6dd7d",
   "metadata": {},
   "outputs": [],
   "source": [
    "for col_name in df_num.columns:\n",
    "    if(df_num[col_name].dtype == 'object'):\n",
    "        df_num[col_name] = df_num[col_name].astype('category')\n",
    "        df_num[col_name] = df_num[col_name].cat.codes\n",
    "        \n",
    "df_num"
   ]
  },
  {
   "cell_type": "code",
   "execution_count": null,
   "id": "f3da0b26",
   "metadata": {},
   "outputs": [],
   "source": [
    "# for all field\n",
    "\n",
    "cor_matrix = df_num.corr(method='pearson')\n",
    "\n",
    "sns.heatmap(cor_matrix, annot= True)\n",
    "\n",
    "plt.title('Correlation Heatmap')\n",
    "\n",
    "plt.show()"
   ]
  },
  {
   "cell_type": "code",
   "execution_count": null,
   "id": "7e6da91d",
   "metadata": {},
   "outputs": [],
   "source": [
    "corr_mat = df_num.corr()\n",
    "\n",
    "corr_pairs = corr_mat.unstack()\n",
    "\n",
    "sort_pairs = corr_pairs.sort_values()\n",
    "\n",
    "sort_pairs"
   ]
  },
  {
   "cell_type": "code",
   "execution_count": null,
   "id": "ef91cbce",
   "metadata": {},
   "outputs": [],
   "source": [
    "high_corr= sort_pairs[(sort_pairs)> 0.5]\n",
    "\n",
    "high_corr"
   ]
  },
  {
   "cell_type": "code",
   "execution_count": null,
   "id": "850b6199",
   "metadata": {},
   "outputs": [],
   "source": []
  }
 ],
 "metadata": {
  "kernelspec": {
   "display_name": "Python 3 (ipykernel)",
   "language": "python",
   "name": "python3"
  },
  "language_info": {
   "codemirror_mode": {
    "name": "ipython",
    "version": 3
   },
   "file_extension": ".py",
   "mimetype": "text/x-python",
   "name": "python",
   "nbconvert_exporter": "python",
   "pygments_lexer": "ipython3",
   "version": "3.11.1"
  }
 },
 "nbformat": 4,
 "nbformat_minor": 5
}
