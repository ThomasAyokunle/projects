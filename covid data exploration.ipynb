{
    "metadata": {
        "kernelspec": {
            "name": "SQL",
            "display_name": "SQL",
            "language": "sql"
        },
        "language_info": {
            "name": "sql",
            "version": ""
        }
    },
    "nbformat_minor": 2,
    "nbformat": 4,
    "cells": [
        {
            "cell_type": "markdown",
            "source": [
                "**COVID 19 Data Exploration**\n",
                "\n",
                "**Skills used: Joins, CTE's, Aggregate Functions, Creating views, Converting data types.**"
            ],
            "metadata": {
                "language": "",
                "azdata_cell_guid": "021e13e0-521a-434f-a4cb-abcc65a53a1d"
            },
            "attachments": {}
        },
        {
            "cell_type": "code",
            "source": [
                "-- looking at top 500 data from the covid_death table\r\n",
                "SELECT top (500) location, date, total_cases, new_cases, total_deaths, population\r\n",
                "from covid_project.dbo.covid_death\r\n",
                "where continent is not null\r\n",
                "order by 1,2"
            ],
            "metadata": {
                "azdata_cell_guid": "3a8c1e9c-7e44-45e2-8cd8-a7a970837742",
                "language": "sql",
                "tags": []
            },
            "outputs": [],
            "execution_count": null
        },
        {
            "cell_type": "code",
            "source": [
                "-- showing total cases and death with the percentage death rate\r\n",
                "SELECT location, date, total_cases, total_deaths, (total_deaths/total_cases)*100 as deathpercentage\r\n",
                "from covid_project.dbo.covid_death\r\n",
                "where location like '%nigeria%'\r\n",
                "order by deathpercentage DESC"
            ],
            "metadata": {
                "language": "sql",
                "azdata_cell_guid": "29f7239e-ccb7-458d-9981-a5fb80e1eb91",
                "tags": []
            },
            "outputs": [],
            "execution_count": null
        },
        {
            "cell_type": "code",
            "source": [
                "-- total cases by location to show what percentage of the population is infected with covid 19\r\n",
                "SELECT location, date, population,  total_cases,(total_cases/population)*100 as populationpercent\r\n",
                "from covid_project.dbo.covid_death\r\n",
                "where location = 'nigeria'\r\n",
                "order by populationpercent DESC"
            ],
            "metadata": {
                "azdata_cell_guid": "64231999-3597-49ed-a015-f6f54d04cb9c",
                "language": "sql",
                "tags": [
                    "hide_input"
                ]
            },
            "outputs": [],
            "execution_count": null
        },
        {
            "cell_type": "code",
            "source": [
                "-- countries with highest infection rate against population\r\n",
                "SELECT location,population, MAX(total_cases) as HighestInfectionCount ,MAX((total_cases/population))*100 as percentinfected\r\n",
                "from covid_project.dbo.covid_death\r\n",
                "group by location , population\r\n",
                "order by percentinfected desc"
            ],
            "metadata": {
                "language": "sql",
                "azdata_cell_guid": "96859051-18e2-41f4-ab08-1e24d45864ee",
                "tags": [
                    "hide_input"
                ]
            },
            "outputs": [],
            "execution_count": null
        },
        {
            "cell_type": "code",
            "source": [
                "-- showng countries with highest death per population\r\n",
                "SELECT location, MAX(cast(total_deaths as int)) as TotalDeathCount\r\n",
                "from covid_project.dbo.covid_death\r\n",
                "where continent is not NUll\r\n",
                "group by location \r\n",
                "order by TotalDeathCount desc"
            ],
            "metadata": {
                "azdata_cell_guid": "d41dbe78-1d33-4de2-92c0-f88e4b4e0bff",
                "language": "sql",
                "tags": [
                    "hide_input"
                ]
            },
            "outputs": [],
            "execution_count": null
        },
        {
            "cell_type": "code",
            "source": [
                "-- showing continent with the highest death count per population\r\n",
                "SELECT location, MAX(cast(total_deaths as int)) as TotalDeathCount\r\n",
                "from covid_project.dbo.covid_death\r\n",
                "where continent is NUll\r\n",
                "group by [location]\r\n",
                "order by TotalDeathCount desc"
            ],
            "metadata": {
                "azdata_cell_guid": "898149bd-5a1f-44f5-8a03-a33829a4d962",
                "language": "sql",
                "tags": [
                    "hide_input"
                ]
            },
            "outputs": [],
            "execution_count": null
        },
        {
            "cell_type": "code",
            "source": [
                "-- GLOBAL EXPLORATION\r\n",
                "SELECT location, SUM(NEW_CASES) AS total_cases, SUM(CAST(NEW_DEATHS AS int)) AS total_deaths, SUM(CAST(NEW_DEATHS AS INT))/SUM(NEW_CASES)*100 AS TOTALDEATHPERCENT\r\n",
                "FROM covid_project.DBO.Covid_death\r\n",
                "WHERE continent IS NOT NULL\r\n",
                "GROUP BY [location]\r\n",
                "ORDER BY TOTALDEATHPERCENT DESC"
            ],
            "metadata": {
                "azdata_cell_guid": "171bb824-e874-4e1f-a437-7ac3c1089f37",
                "language": "sql"
            },
            "outputs": [],
            "execution_count": null
        },
        {
            "cell_type": "code",
            "source": [
                "-- Total Population vs Vaccinations\r\n",
                "-- Shows Percentage of Population that has recieved at least one Covid Vaccine\r\n",
                "\r\n",
                "Select dea.continent, dea.location, dea.date, dea.population, vac.new_vaccinations\r\n",
                ", SUM(CONVERT(int,vac.new_vaccinations)) OVER (Partition by dea.Location Order by dea.location, dea.Date) as RollingPeopleVaccinated\r\n",
                "--, (RollingPeopleVaccinated/population)*100\r\n",
                "From covid_project.dbo.Covid_death dea\r\n",
                "Join covid_project.dbo.Covid_Vac\n",
                "cation = vac.location\r\n",
                "\tand dea.date = vac.date\r\n",
                "where dea.continent is not null \r\n",
                "order by 3"
            ],
            "metadata": {
                "azdata_cell_guid": "37d5d59d-a652-4aa3-8e01-2aec3ce0e5b0",
                "language": "sql"
            },
            "outputs": [],
            "execution_count": null
        },
        {
            "cell_type": "code",
            "source": [
                "With PopvsVac (Continent, Location, Date, Population, New_Vaccinations, RollingPeopleVaccinated)\r\n",
                "as\r\n",
                "(\r\n",
                "Select dea.continent, dea.location, dea.date, dea.population, vac.new_vaccinations\r\n",
                ", SUM(CONVERT(int,vac.new_vaccinations)) OVER (Partition by dea.Location Order by dea.location, dea.Date) as RollingPeopleVaccinated\r\n",
                "--, (RollingPeopleVaccinated/population)*100\r\n",
                "From covid_project.dbo.Covid_death dea\r\n",
                "Join covid_project.dbo.Covid_Vacc vac\r\n",
                "\tOn dea.location = vac.location\r\n",
                "\tand dea.date = vac.date\r\n",
                "where dea.continent is not null and dea.population is not null\r\n",
                "--order by 2,3\r\n",
                ")\r\n",
                "Select *, (RollingPeopleVaccinated/Population)*100 as percenagevaccinated\r\n",
                "From PopvsVac"
            ],
            "metadata": {
                "azdata_cell_guid": "6265eb15-4338-4df6-8d7f-85944319cc86",
                "language": "sql"
            },
            "outputs": [],
            "execution_count": null
        },
        {
            "cell_type": "code",
            "source": [
                "-- Using Temp Table to perform Calculation on Partition By in previous query\r\n",
                "\r\n",
                "DROP Table if exists #PercentPopulationVaccinated\r\n",
                "Create Table #PercentPopulationVaccinated\r\n",
                "(\r\n",
                "Continent nvarchar(255),\r\n",
                "Location nvarchar(255),\r\n",
                "Date datetime,\r\n",
                "Population numeric,\r\n",
                "New_vaccinations numeric,\r\n",
                "RollingPeopleVaccinated numeric\r\n",
                ")\r\n",
                "\r\n",
                "Insert into #PercentPopulationVaccinated\r\n",
                "Select dea.continent, dea.location, dea.date, dea.population, vac.new_vaccinations\r\n",
                ", SUM(CONVERT(int,vac.new_vaccinations)) OVER (Partition by dea.Location Order by dea.location, dea.Date) as RollingPeopleVaccinated\r\n",
                "--, (RollingPeopleVaccinated/population)*100\r\n",
                "From covid_project.dbo.Covid_death dea\r\n",
                "Join covid_project.dbo.Covid_Vac"
            ],
            "metadata": {
                "language": "sql",
                "azdata_cell_guid": "32680e04-510d-488b-b3f8-06d49e1bad35"
            },
            "outputs": [],
            "execution_count": null
        },
        {
            "cell_type": "code",
            "source": [
                "Select *, (RollingPeopleVaccinated/Population)*100\r\n",
                "From #PercentPopulationVaccinated"
            ],
            "metadata": {
                "language": "sql",
                "azdata_cell_guid": "16e62e71-8325-4757-8752-6cff31409459"
            },
            "outputs": [],
            "execution_count": null
        },
        {
            "cell_type": "code",
            "source": [
                "-- Creating View to store data for later visualizations\r\n",
                "\r\n",
                "Create View PercentPopulationVaccinated as\r\n",
                "Select dea.continent, dea.location, dea.date, dea.population, vac.new_vaccinations\r\n",
                ", SUM(CONVERT(int,vac.new_vaccinations)) OVER (Partition by dea.Location Order by dea.location, dea.Date) as RollingPeopleVaccinated\r\n",
                "--, (RollingPeopleVaccinated/population)*100\r\n",
                "From covid_project.dbo.Covid_death dea\r\n",
                "Join covid_project.dbo.Covid_Vacc vac\r\n",
                "\tOn dea.location = vac.location\r\n",
                "\tand dea.date = vac.date\r\n",
                "where dea.continent is not null "
            ],
            "metadata": {
                "language": "sql",
                "azdata_cell_guid": "26028b7e-ab36-4d45-9363-bce9575e75d8"
            },
            "outputs": [
                {
                    "output_type": "display_data",
                    "data": {
                        "text/html": "Commands completed successfully."
                    },
                    "metadata": {}
                },
                {
                    "output_type": "display_data",
                    "data": {
                        "text/html": "Total execution time: 00:00:02.518"
                    },
                    "metadata": {}
                }
            ],
            "execution_count": 1
        }
    ]
}